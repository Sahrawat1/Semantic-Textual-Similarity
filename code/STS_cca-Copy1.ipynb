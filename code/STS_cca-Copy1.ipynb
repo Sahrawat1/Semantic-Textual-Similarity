{
 "cells": [
  {
   "cell_type": "code",
   "execution_count": 1,
   "metadata": {},
   "outputs": [
    {
     "name": "stderr",
     "output_type": "stream",
     "text": [
      "C:\\Users\\lappy\\Anaconda21\\lib\\site-packages\\gensim\\utils.py:1197: UserWarning: detected Windows; aliasing chunkize to chunkize_serial\n",
      "  warnings.warn(\"detected Windows; aliasing chunkize to chunkize_serial\")\n"
     ]
    }
   ],
   "source": [
    "import numpy as np\n",
    "from gensim.models import KeyedVectors\n",
    "from sklearn.cross_decomposition import CCA"
   ]
  },
  {
   "cell_type": "code",
   "execution_count": null,
   "metadata": {},
   "outputs": [
    {
     "name": "stderr",
     "output_type": "stream",
     "text": [
      "C:\\Users\\lappy\\Anaconda21\\lib\\site-packages\\smart_open\\smart_open_lib.py:398: UserWarning: This function is deprecated, use smart_open.open instead. See the migration notes for details: https://github.com/RaRe-Technologies/smart_open/blob/master/README.rst#migrating-to-the-new-open-function\n",
      "  'See the migration notes for details: %s' % _MIGRATION_NOTES_URL\n"
     ]
    }
   ],
   "source": [
    "vecfile = 'GoogleNews-vectors-negative300.bin'\n",
    "vecs = KeyedVectors.load_word2vec_format(vecfile, binary =True)\n",
    "vecs.init_sims(replace=True)"
   ]
  },
  {
   "cell_type": "code",
   "execution_count": 3,
   "metadata": {},
   "outputs": [
    {
     "name": "stderr",
     "output_type": "stream",
     "text": [
      "[nltk_data] Downloading package punkt to\n",
      "[nltk_data]     C:\\Users\\mailt\\AppData\\Roaming\\nltk_data...\n",
      "[nltk_data]   Package punkt is already up-to-date!\n",
      "[nltk_data] Downloading package stopwords to\n",
      "[nltk_data]     C:\\Users\\mailt\\AppData\\Roaming\\nltk_data...\n",
      "[nltk_data]   Package stopwords is already up-to-date!\n"
     ]
    },
    {
     "data": {
      "text/plain": [
       "True"
      ]
     },
     "execution_count": 3,
     "metadata": {},
     "output_type": "execute_result"
    }
   ],
   "source": [
    "import nltk\n",
    "nltk.download('punkt')\n",
    "nltk.download('stopwords')"
   ]
  },
  {
   "cell_type": "code",
   "execution_count": 4,
   "metadata": {},
   "outputs": [],
   "source": [
    "import inflect\n",
    "import re\n",
    "from nltk.corpus import stopwords\n",
    "from scipy.stats import pearsonr"
   ]
  },
  {
   "cell_type": "code",
   "execution_count": 5,
   "metadata": {},
   "outputs": [],
   "source": [
    "def remove_punctuation(words):\n",
    "    new_words = []\n",
    "    for word in words:\n",
    "        new_word = re.sub(r'[^\\w\\s]', '', word)\n",
    "        if new_word != '':\n",
    "           new_words.append(new_word)\n",
    "    return new_words\n",
    "                    \n",
    "def replace_numbers(words):\n",
    "    p = inflect.engine()\n",
    "    new_words =[]\n",
    "    for word in words:\n",
    "        if word.isdigit():\n",
    "            new_word = p.number_to_words(word)\n",
    "            new_words.append(new_word)\n",
    "        else:\n",
    "            new_words.append(word)\n",
    "    return new_words        \n",
    "                                                    \n",
    "def remove_stopwords(words):\n",
    "    new_words = []\n",
    "    for word in words:\n",
    "        if word not in stopwords.words('english'):\n",
    "            new_words.append(word)\n",
    "    return new_words  \n",
    "                          "
   ]
  },
  {
   "cell_type": "code",
   "execution_count": 6,
   "metadata": {},
   "outputs": [],
   "source": [
    "def normalize(words):\n",
    "    words = remove_punctuation(words)\n",
    "    words = replace_numbers(words)\n",
    "    words = remove_stopwords(words)\n",
    "    return words"
   ]
  },
  {
   "cell_type": "code",
   "execution_count": 7,
   "metadata": {},
   "outputs": [],
   "source": [
    "def compute_cosine_similarity(vector1, vector2):\n",
    "    \n",
    "    \n",
    "    cos=vector1.dot(vector2)/(np.linalg.norm(vector1, ord=2) * np.linalg.norm(vector2, ord=2))\n",
    "    \n",
    "    if np.isnan(cos):\n",
    "        return 0.500 # arbitrarily low similarity\n",
    "    else:\n",
    "        return cos\n",
    "  "
   ]
  },
  {
   "cell_type": "code",
   "execution_count": 18,
   "metadata": {},
   "outputs": [],
   "source": [
    "def cca_semantic(inpu, vecs, output):\n",
    "    \n",
    "    \n",
    "    write_str  = []\n",
    "    sims = []\n",
    "    s_min = 1\n",
    "    s_max = 0\n",
    "    sim = 0\n",
    "    original_value=[]\n",
    "    \n",
    "    \n",
    "    for line in inpu:\n",
    "        line_components = line.split(\"\\t\")\n",
    "        sent1 = line_components[1]\n",
    "        sent2 = line_components[2]\n",
    "        original_value.append(line_components[0])\n",
    "        \n",
    "        \n",
    "        words_in_sent1 = normalize(sent1.split())\n",
    "        words_in_sent2 = normalize(sent2.split())\n",
    "        \n",
    "        stems1 = []\n",
    "        for word in words_in_sent1:\n",
    "            if word in vecs:\n",
    "                stems1.append(word)\n",
    "                \n",
    "        stems2 = []\n",
    "        for word in words_in_sent2:\n",
    "            if word in vecs:\n",
    "                stems2.append(word)\n",
    "        \n",
    "        \n",
    "        \n",
    "        len_1 = len(stems1)\n",
    "        len_2 = len(stems2)\n",
    "        len_min = min(len_1, len_2, 5)  # yaha badlo  3 se \n",
    "         \n",
    "        \n",
    "        \n",
    "        \n",
    "        v1 = np.asarray(vecs[\"hi\"])\n",
    "        v2 = np.asarray(vecs[\"hi\"])\n",
    "        \n",
    "        for word in stems1:\n",
    "            x = np.asarray(vecs[word]) \n",
    "            v1 = np.vstack((v1, x))\n",
    "        for word in stems2:\n",
    "            x = np.asarray(vecs[word]) \n",
    "            v2 = np.vstack((v2, x))\n",
    "            \n",
    "        v1 = np.delete(v1, 0, 0)\n",
    "        v2 = np.delete(v2, 0, 0)\n",
    "        \n",
    "        b = len_min    \n",
    "            \n",
    "        cca = CCA(n_components =b)\n",
    "            \n",
    "        cca.fit(v1.T, v2.T)\n",
    "        X_c, Y_c = cca.transform(v1.T, v2.T)\n",
    "        \n",
    "        sim =0\n",
    "        write_str1 = []\n",
    "        write_str2 = []\n",
    "        s = \"\"\n",
    "        t = \"\"\n",
    "        \n",
    "        for i in range(b):\n",
    "            \n",
    "            \n",
    "            \n",
    "            #vector 1\n",
    "            v1 = []\n",
    "             \n",
    "            for j in X_c:\n",
    "                v1.append(j[i])\n",
    "                \n",
    "            w11 = np.asarray(v1)\n",
    "        \n",
    "            con11 = vecs.most_similar(positive = [w11], topn =1)\n",
    "            context11 = con11[0][0]\n",
    "        \n",
    "        \n",
    "            #vector 2\n",
    "            v2 = []\n",
    "             \n",
    "            for j in Y_c:\n",
    "                v2.append(j[i])\n",
    "                \n",
    "            w21 = np.asarray(v2)\n",
    "        \n",
    "            con21 = vecs.most_similar(positive = [w21], topn =1)\n",
    "            context21 = con21[0][0]\n",
    "            \n",
    "            #cosine similarity\n",
    "            sim_1 = compute_cosine_similarity(w11, w21)\n",
    "            sim =sim + sim_1\n",
    "            \n",
    "            write_str1.append(context11)\n",
    "            write_str2.append(context21)\n",
    "            \n",
    "        sim = sim/b\n",
    "        sims.append(sim)\n",
    "\n",
    "        s_max = max(s_max, sim)\n",
    "        s_min = min(s_min, sim)\n",
    "        \n",
    "        \n",
    "        for i in write_str1:\n",
    "            s += i \n",
    "            s += \", \"\n",
    "        \n",
    "        for i in write_str2:\n",
    "            t += i \n",
    "            t += \", \"\n",
    "        \n",
    "        write_str.append(sent1 + \"\\t\" + '(' + s + ')' + \"\\t\" + sent2 +  \"\\t\" +  '(' + t + ')' + \"\\t\")        \n",
    "    \n",
    "    \n",
    "    \n",
    "    sims_scaled = [5*(i - s_min)/(s_max - s_min) for i in sims]\n",
    "    \n",
    "    for i in range(0,len(write_str)):\n",
    "        output.write(write_str[i] + str(sims_scaled[i]) + \"\\n\")\n",
    "        sims_scaled[i]   =  float(sims_scaled[i])\n",
    "        original_value[i] = float(original_value[i])\n",
    "        \n",
    "    covariance = pearsonr(sims_scaled,original_value)\n",
    "    print(covariance)    \n",
    "        "
   ]
  },
  {
   "cell_type": "code",
   "execution_count": 19,
   "metadata": {},
   "outputs": [
    {
     "name": "stdout",
     "output_type": "stream",
     "text": [
      "(0.737283733383587, 3.940506467496995e-44)\n"
     ]
    }
   ],
   "source": [
    "\n",
    "with open(\"answers-forums.test.txt\", 'r') as inputfile:\n",
    "    inpu = inputfile.readlines()\n",
    "\n",
    "output_cca = open(\"pred_answers-forums.txt\", 'w')\n",
    "\n",
    "cca_semantic(inpu, vecs, output_cca)\n",
    "\n",
    "output_cca.close()\n",
    "\n",
    "    \n",
    "    "
   ]
  },
  {
   "cell_type": "code",
   "execution_count": null,
   "metadata": {},
   "outputs": [],
   "source": []
  },
  {
   "cell_type": "code",
   "execution_count": 11,
   "metadata": {},
   "outputs": [],
   "source": [
    "x = np.asarray(vecs[\"red\"]) + np.asarray(vecs[\"white\"]) + np.asarray(vecs[\"pink\"])"
   ]
  },
  {
   "cell_type": "code",
   "execution_count": 13,
   "metadata": {},
   "outputs": [],
   "source": [
    " y = vecs.most_similar(positive =[x], topn=1)"
   ]
  },
  {
   "cell_type": "code",
   "execution_count": 14,
   "metadata": {},
   "outputs": [
    {
     "data": {
      "text/plain": [
       "[('pink', 0.8604159355163574)]"
      ]
     },
     "execution_count": 14,
     "metadata": {},
     "output_type": "execute_result"
    }
   ],
   "source": [
    "y"
   ]
  },
  {
   "cell_type": "code",
   "execution_count": 15,
   "metadata": {},
   "outputs": [
    {
     "data": {
      "text/plain": [
       "list"
      ]
     },
     "execution_count": 15,
     "metadata": {},
     "output_type": "execute_result"
    }
   ],
   "source": [
    "type(y)"
   ]
  },
  {
   "cell_type": "code",
   "execution_count": 16,
   "metadata": {},
   "outputs": [
    {
     "data": {
      "text/plain": [
       "('pink', 0.8604159355163574)"
      ]
     },
     "execution_count": 16,
     "metadata": {},
     "output_type": "execute_result"
    }
   ],
   "source": [
    "y[0]"
   ]
  },
  {
   "cell_type": "code",
   "execution_count": 19,
   "metadata": {},
   "outputs": [
    {
     "data": {
      "text/plain": [
       "'pink'"
      ]
     },
     "execution_count": 19,
     "metadata": {},
     "output_type": "execute_result"
    }
   ],
   "source": [
    "y[0][0]"
   ]
  },
  {
   "cell_type": "code",
   "execution_count": 46,
   "metadata": {},
   "outputs": [],
   "source": [
    "a = np.array([[1,2,3, 5, 6, 7], [4,5,6, 8, 8, 9], [7,8,9, 10, 11 ,12]])\n",
    "b = np.array([[10,11,12, 14, 7 ,8], [14,15,16, 9, 1, 2]])\n",
    "\n",
    "cca =CCA(n_components=2)\n",
    "\n",
    "cca.fit(a.T, b.T)\n",
    "\n",
    "X_c, Y_c = cca.transform(a.T, b.T)"
   ]
  },
  {
   "cell_type": "code",
   "execution_count": 47,
   "metadata": {},
   "outputs": [
    {
     "data": {
      "text/plain": [
       "array([[ 0.01459147,  0.22569892],\n",
       "       [-0.02918293,  0.19409217],\n",
       "       [-0.07295734,  0.16248541],\n",
       "       [-0.16050614, -0.30137706],\n",
       "       [ 0.14591467, -0.12464635],\n",
       "       [ 0.10214027, -0.1562531 ]])"
      ]
     },
     "execution_count": 47,
     "metadata": {},
     "output_type": "execute_result"
    }
   ],
   "source": [
    "X_c"
   ]
  },
  {
   "cell_type": "code",
   "execution_count": 53,
   "metadata": {},
   "outputs": [
    {
     "name": "stdout",
     "output_type": "stream",
     "text": [
      "[0.014591467303593737, -0.029182934607190434, -0.0729573365179748, -0.1605061403395427, 0.14591467303594954, 0.10214027112516533]\n",
      "[0.22569891775642076, 0.19409216596015597, 0.16248541416389128, -0.3013770558601536, -0.12464634511202465, -0.15625309690828953]\n"
     ]
    }
   ],
   "source": [
    "a=[]\n",
    "n =2\n",
    "for j in range(2):\n",
    "   for i in X_c:\n",
    "       a.append(i[j])\n",
    "   print(a)\n",
    "   a = []\n",
    "   "
   ]
  },
  {
   "cell_type": "code",
   "execution_count": 16,
   "metadata": {},
   "outputs": [
    {
     "data": {
      "text/plain": [
       "array([[ 0.12909944,  0.76173883],\n",
       "       [-0.25819889,  0.65506535],\n",
       "       [-0.64549722,  0.54839186],\n",
       "       [-1.42009389, -1.01715422],\n",
       "       [ 1.29099445, -0.42068417],\n",
       "       [ 0.90369611, -0.52735765]])"
      ]
     },
     "execution_count": 16,
     "metadata": {},
     "output_type": "execute_result"
    }
   ],
   "source": [
    "Y_c"
   ]
  },
  {
   "cell_type": "code",
   "execution_count": 20,
   "metadata": {},
   "outputs": [
    {
     "data": {
      "text/plain": [
       "array([[ 0.12909944],\n",
       "       [-0.25819889],\n",
       "       [-0.64549722],\n",
       "       [-1.42009389],\n",
       "       [ 1.29099445],\n",
       "       [ 0.90369611]])"
      ]
     },
     "execution_count": 20,
     "metadata": {},
     "output_type": "execute_result"
    }
   ],
   "source": [
    "Y_c"
   ]
  },
  {
   "cell_type": "code",
   "execution_count": 8,
   "metadata": {},
   "outputs": [],
   "source": [
    "x = np.asarray(vecs[\"red\"]) + np.asarray(vecs[\"white\"]) + np.asarray(vecs[\"pink\"])"
   ]
  },
  {
   "cell_type": "code",
   "execution_count": 10,
   "metadata": {},
   "outputs": [],
   "source": [
    "a =vecs.most_similar(positive =[x], topn=1)"
   ]
  },
  {
   "cell_type": "code",
   "execution_count": 11,
   "metadata": {},
   "outputs": [
    {
     "data": {
      "text/plain": [
       "list"
      ]
     },
     "execution_count": 11,
     "metadata": {},
     "output_type": "execute_result"
    }
   ],
   "source": [
    "type(a)"
   ]
  },
  {
   "cell_type": "code",
   "execution_count": 12,
   "metadata": {},
   "outputs": [
    {
     "data": {
      "text/plain": [
       "('red', 0.8569148182868958)"
      ]
     },
     "execution_count": 12,
     "metadata": {},
     "output_type": "execute_result"
    }
   ],
   "source": [
    "a[0]"
   ]
  },
  {
   "cell_type": "code",
   "execution_count": 13,
   "metadata": {},
   "outputs": [
    {
     "data": {
      "text/plain": [
       "'red'"
      ]
     },
     "execution_count": 13,
     "metadata": {},
     "output_type": "execute_result"
    }
   ],
   "source": [
    "a[0][0]"
   ]
  },
  {
   "cell_type": "code",
   "execution_count": null,
   "metadata": {},
   "outputs": [],
   "source": []
  }
 ],
 "metadata": {
  "kernelspec": {
   "display_name": "Python 2",
   "language": "python",
   "name": "python2"
  },
  "language_info": {
   "codemirror_mode": {
    "name": "ipython",
    "version": 2
   },
   "file_extension": ".py",
   "mimetype": "text/x-python",
   "name": "python",
   "nbconvert_exporter": "python",
   "pygments_lexer": "ipython2",
   "version": "2.7.16"
  }
 },
 "nbformat": 4,
 "nbformat_minor": 2
}
