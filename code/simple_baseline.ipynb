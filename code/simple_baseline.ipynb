{
 "cells": [
  {
   "cell_type": "code",
   "execution_count": 1,
   "metadata": {},
   "outputs": [],
   "source": [
    "import numpy as np\n",
    "import pandas as pd\n",
    "from scipy.stats import pearsonr"
   ]
  },
  {
   "cell_type": "code",
   "execution_count": 2,
   "metadata": {},
   "outputs": [],
   "source": [
    "from collections import Counter"
   ]
  },
  {
   "cell_type": "code",
   "execution_count": 3,
   "metadata": {},
   "outputs": [],
   "source": [
    "def compute_cosine_similarity(vector1, vector2):\n",
    "    \n",
    "    \n",
    "    cos=vector1.dot(vector2)/(np.linalg.norm(vector1, ord=2) * np.linalg.norm(vector2, ord=2))\n",
    "    \n",
    "    if np.isnan(cos):\n",
    "        return 0.500 # arbitrarily low similarity\n",
    "    else:\n",
    "        return cos\n",
    "  "
   ]
  },
  {
   "cell_type": "code",
   "execution_count": 4,
   "metadata": {},
   "outputs": [],
   "source": [
    "def simple_baseline(inpu , output):\n",
    "    write_str = []\n",
    "    sims = []\n",
    "    s_min = 1\n",
    "    s_max = 0\n",
    "    original_value=[]\n",
    "    \n",
    "    \n",
    "    for line in inpu:\n",
    "        line_components = line.split(\"\\t\")\n",
    "        \n",
    "        # sen1 and sent2 are strings \n",
    "        sent1 = line_components[0]\n",
    "        sent2 = line_components[1]\n",
    "        original_value.append(line_components[2])\n",
    "        \n",
    "        # splits the string, now word_in_sent is a list of strings\n",
    "        words_in_sent1 =  sent1.split()\n",
    "        words_in_sent2 =  sent2.split()\n",
    "        \n",
    "        # a unique list of all the words in two sentences to be compared\n",
    "        tf_idf = []\n",
    "        \n",
    "        # will contain each word and corresponding occurences\n",
    "        tf_idf1 = Counter()\n",
    "        tf_idf2 = Counter()\n",
    "        \n",
    "        \n",
    "        \n",
    "        for word in words_in_sent1:\n",
    "            if word not in tf_idf:\n",
    "                tf_idf.append(word)\n",
    "                \n",
    "            tf_idf1[word]+=1\n",
    "        \n",
    "        \n",
    "        for word in words_in_sent2:\n",
    "            if word not in tf_idf:\n",
    "                tf_idf.append(word)\n",
    "                \n",
    "            tf_idf2[word]+=1\n",
    "            \n",
    "            \n",
    "            \n",
    "        n = len(tf_idf)\n",
    "        v1 = np.zeros(n)\n",
    "        v2 = np.zeros(n)\n",
    "        \n",
    "        for i in range(n):\n",
    "            v1[i] = tf_idf1[tf_idf[i]]\n",
    "            v2[i] = tf_idf2[tf_idf[i]]\n",
    "            \n",
    "        sim  = compute_cosine_similarity(v1, v2)\n",
    "        \n",
    "        write_str.append(sent1 + \"\\t\" + sent2 + \"\\t\")\n",
    "        sims.append(sim)\n",
    "        \n",
    "        s_max = max(s_max, sim)\n",
    "        s_min = min(s_min, sim)\n",
    "        \n",
    "        \n",
    "        #??? is this reliable or apply another approach\n",
    "    sims_scaled = [5*(i-s_min)/(s_max - s_min) for i in sims]\n",
    "        \n",
    "    for i in range(len(write_str)):\n",
    "         output.write(write_str[i]+str(sims_scaled[i]) + \"\\n\")\n",
    "            \n",
    "         sims_scaled[i]   = float(sims_scaled[i])\n",
    "         original_value[i] = float(original_value[i])\n",
    "    \n",
    "    #a = pd.Series(sims_scaled)\n",
    "    #b = pd.Series(original_value)\n",
    "        \n",
    "    covariance = pearsonr(sims_scaled,original_value)\n",
    "    print(covariance)"
   ]
  },
  {
   "cell_type": "code",
   "execution_count": 5,
   "metadata": {},
   "outputs": [
    {
     "name": "stdout",
     "output_type": "stream",
     "text": [
      "(0.669820456317037, 6.490545890402299e-34)\n"
     ]
    }
   ],
   "source": [
    "with open('en-test.txt', 'r') as inputfile:\n",
    "        inpu = inputfile.readlines()\n",
    "        \n",
    "output_simple = open(\"pred_simple.txt\", 'w')\n",
    "    \n",
    "simple_baseline(inpu, output_simple)\n",
    "    \n",
    "output_simple.close()\n"
   ]
  },
  {
   "cell_type": "code",
   "execution_count": null,
   "metadata": {},
   "outputs": [],
   "source": []
  },
  {
   "cell_type": "code",
   "execution_count": null,
   "metadata": {},
   "outputs": [],
   "source": []
  }
 ],
 "metadata": {
  "kernelspec": {
   "display_name": "Python 3",
   "language": "python",
   "name": "python3"
  },
  "language_info": {
   "codemirror_mode": {
    "name": "ipython",
    "version": 3
   },
   "file_extension": ".py",
   "mimetype": "text/x-python",
   "name": "python",
   "nbconvert_exporter": "python",
   "pygments_lexer": "ipython3",
   "version": "3.7.3"
  }
 },
 "nbformat": 4,
 "nbformat_minor": 2
}
