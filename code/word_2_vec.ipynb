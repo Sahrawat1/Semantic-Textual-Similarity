{
 "cells": [
  {
   "cell_type": "code",
   "execution_count": 8,
   "metadata": {},
   "outputs": [],
   "source": [
    "import numpy as np"
   ]
  },
  {
   "cell_type": "code",
   "execution_count": 1,
   "metadata": {},
   "outputs": [
    {
     "name": "stderr",
     "output_type": "stream",
     "text": [
      "C:\\Users\\lappy\\Anaconda21\\lib\\site-packages\\gensim\\utils.py:1197: UserWarning: detected Windows; aliasing chunkize to chunkize_serial\n",
      "  warnings.warn(\"detected Windows; aliasing chunkize to chunkize_serial\")\n"
     ]
    }
   ],
   "source": [
    "from gensim.models import KeyedVectors"
   ]
  },
  {
   "cell_type": "code",
   "execution_count": 2,
   "metadata": {},
   "outputs": [
    {
     "name": "stderr",
     "output_type": "stream",
     "text": [
      "C:\\Users\\lappy\\Anaconda21\\lib\\site-packages\\smart_open\\smart_open_lib.py:398: UserWarning: This function is deprecated, use smart_open.open instead. See the migration notes for details: https://github.com/RaRe-Technologies/smart_open/blob/master/README.rst#migrating-to-the-new-open-function\n",
      "  'See the migration notes for details: %s' % _MIGRATION_NOTES_URL\n"
     ]
    }
   ],
   "source": [
    "vecfile = 'GoogleNews-vectors-negative300.bin'\n",
    "vecs = KeyedVectors.load_word2vec_format(vecfile, binary=True)\n"
   ]
  },
  {
   "cell_type": "code",
   "execution_count": 3,
   "metadata": {},
   "outputs": [],
   "source": [
    "def compute_cosine_similarity(vector1, vector2):\n",
    "    \n",
    "    cos = vector1.dot(vector2) / (np.linalg.norm(vector1, ord=2) * np.linalg.norm(vector2, ord=2))\n",
    "    if np.isnan(cos):\n",
    "        return 0.500    # arbitrarily low semantic similarity\n",
    "    else:\n",
    "        return cos"
   ]
  },
  {
   "cell_type": "code",
   "execution_count": 4,
   "metadata": {},
   "outputs": [],
   "source": [
    "def w2v_semantic_sim(input, vecs, output):\n",
    "    write_str = []\n",
    "    sims = []\n",
    "    s_min = 1\n",
    "    s_max = 0\n",
    "\n",
    "    for line in input:\n",
    "        line_components = line.split(\"\\t\")\n",
    "        sent1 = line_components[0]\n",
    "        sent2 = line_components[1]\n",
    "        words_in_sent1 = sent1.split()\n",
    "        words_in_sent2 = sent2.split()\n",
    "        v1 = np.zeros(vecs[\"hi\"].shape)\n",
    "        for word in words_in_sent1:\n",
    "            if word in vecs:\n",
    "                v1 = v1 + np.asarray(vecs[word])\n",
    "\n",
    "        v2 = np.zeros(vecs[\"hi\"].shape)\n",
    "        for word in words_in_sent2:\n",
    "            if word in vecs:\n",
    "                v2 = v2 + np.asarray(vecs[word])\n",
    "\n",
    "        sim = compute_cosine_similarity(v1, v2)\n",
    "\n",
    "        write_str.append(sent1 + \"\\t\" + sent2 + \"\\t\")\n",
    "        sims.append(sim)\n",
    "\n",
    "        s_max = max(s_max, sim)\n",
    "        s_min = min(s_min, sim)\n",
    "\n",
    "    sims_scaled = [5*(i - s_min)/(s_max - s_min) for i in sims]\n",
    "    for i in range(0,len(write_str)):\n",
    "        output.write(write_str[i] + str(sims_scaled[i]) + \"\\n\")\n"
   ]
  },
  {
   "cell_type": "code",
   "execution_count": 9,
   "metadata": {},
   "outputs": [],
   "source": [
    "with open('en-test.txt', 'r') as inputfile:\n",
    "        input = inputfile.readlines()\n",
    "        \n",
    "output_simple = open(\"pred_simple.txt\", \"w\")\n",
    "\n",
    "w2v_semantic_sim(input, vecs, output_simple)\n",
    "output_simple.close()"
   ]
  },
  {
   "cell_type": "code",
   "execution_count": null,
   "metadata": {},
   "outputs": [],
   "source": []
  }
 ],
 "metadata": {
  "kernelspec": {
   "display_name": "Python 2",
   "language": "python",
   "name": "python2"
  },
  "language_info": {
   "codemirror_mode": {
    "name": "ipython",
    "version": 2
   },
   "file_extension": ".py",
   "mimetype": "text/x-python",
   "name": "python",
   "nbconvert_exporter": "python",
   "pygments_lexer": "ipython2",
   "version": "2.7.16"
  }
 },
 "nbformat": 4,
 "nbformat_minor": 2
}
